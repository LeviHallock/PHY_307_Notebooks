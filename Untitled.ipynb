{
 "cells": [
  {
   "cell_type": "markdown",
   "id": "6a3e9a79",
   "metadata": {},
   "source": [
    "AstroPy is a collection of Python libraries written by astronomers and astrophysicists — for astronomers and astrophysicists.  It contains many useful functions for working with astronomical data.\n",
    "\n",
    "We will start simple, with an introduction to Python by way of astronomical calculations."
   ]
  },
  {
   "cell_type": "markdown",
   "id": "161bbcc3",
   "metadata": {},
   "source": [
    "To access a collection of functions in Python, you have to \"import\" them.  \n",
    "\n",
    "*   List item\n",
    "*   List item\n",
    "\n",
    "Let's import a collection of predefined astrophysical quantities from AstroPy, along with a collection of mathematical functions."
   ]
  },
  {
   "cell_type": "code",
   "execution_count": null,
   "id": "f6717979",
   "metadata": {},
   "outputs": [],
   "source": []
  }
 ],
 "metadata": {
  "kernelspec": {
   "display_name": "Python 3 (ipykernel)",
   "language": "python",
   "name": "python3"
  },
  "language_info": {
   "codemirror_mode": {
    "name": "ipython",
    "version": 3
   },
   "file_extension": ".py",
   "mimetype": "text/x-python",
   "name": "python",
   "nbconvert_exporter": "python",
   "pygments_lexer": "ipython3",
   "version": "3.9.13"
  }
 },
 "nbformat": 4,
 "nbformat_minor": 5
}
